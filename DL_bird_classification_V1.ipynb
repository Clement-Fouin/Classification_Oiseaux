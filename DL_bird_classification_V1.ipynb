{
 "cells": [
  {
   "attachments": {},
   "cell_type": "markdown",
   "metadata": {},
   "source": [
    "# Bird classification using deeplearning\n",
    "The goal of this notebook is to classify birds images in function of their species.\n",
    "\n",
    "Data are from:\n",
    "https://darwin.v7labs.com/v7-open-datasets/bird-species"
   ]
  },
  {
   "cell_type": "code",
   "execution_count": null,
   "metadata": {},
   "outputs": [],
   "source": [
    "#Libraries declaration\n",
    "import json\n",
    "import pandas as pd\n",
    "import numpy as np\n",
    "import urllib.request\n",
    "import os\n",
    "import matplotlib.pyplot as plt\n",
    "import seaborn as sns; sns.set()\n",
    "from sklearn.model_selection import train_test_split"
   ]
  },
  {
   "attachments": {},
   "cell_type": "markdown",
   "metadata": {},
   "source": [
    "Rename images from 0 to n (the number of images)."
   ]
  },
  {
   "cell_type": "code",
   "execution_count": null,
   "metadata": {},
   "outputs": [],
   "source": [
    "x=0\n",
    "for i in range(0, 10000):\n",
    "    if(os.path.exists('data bird/'+str(i) +'.json')):\n",
    "        os.rename('data bird/'+str(i) +'.json','data bird/'+str(x) +'.json')\n",
    "        x+=1\n",
    "    \n"
   ]
  },
  {
   "attachments": {},
   "cell_type": "markdown",
   "metadata": {},
   "source": [
    "Loading data in a dataframe"
   ]
  },
  {
   "cell_type": "code",
   "execution_count": null,
   "metadata": {},
   "outputs": [],
   "source": [
    "df = pd.DataFrame()\n",
    "data = []\n",
    "for i in range(0, 1909):\n",
    "  with open('data bird/'+str(i) +'.json', encoding='utf-8') as project_file: \n",
    "    df = pd.concat([df, pd.json_normalize(data)], ignore_index=True)\n",
    "    data = json.load(project_file) \n",
    "\n",
    "df.head()\n"
   ]
  },
  {
   "cell_type": "code",
   "execution_count": null,
   "metadata": {},
   "outputs": [],
   "source": [
    "anns = []\n",
    "for i in range(0, 1908):\n",
    "    pairs = df.annotations[i]\n",
    "    string = json.dumps(pairs[0])\n",
    "    print(json.loads(string)['name'])\n",
    "    anns.append(json.loads(string)['name'])\n",
    "df['ann']=anns\n"
   ]
  },
  {
   "cell_type": "code",
   "execution_count": null,
   "metadata": {},
   "outputs": [],
   "source": [
    "df.head()"
   ]
  },
  {
   "cell_type": "code",
   "execution_count": null,
   "metadata": {},
   "outputs": [],
   "source": [
    "nb_ann = 0\n",
    "ann_name = []\n",
    "i=0\n",
    "for i in range(1, len(df)):\n",
    "    if df.ann[i] not in ann_name:\n",
    "        ann_name.append(df.ann[i])\n",
    "        nb_ann\n",
    "        print(df.ann[i], i)"
   ]
  },
  {
   "attachments": {},
   "cell_type": "markdown",
   "metadata": {},
   "source": [
    "Split dataframe between training and testing"
   ]
  },
  {
   "cell_type": "code",
   "execution_count": null,
   "metadata": {},
   "outputs": [],
   "source": [
    "X_train,X_val=train_test_split(df,test_size=0.2)\n",
    "\n",
    "print(pd.DataFrame(X_train).groupby(['ann']).size())"
   ]
  },
  {
   "cell_type": "code",
   "execution_count": null,
   "metadata": {},
   "outputs": [],
   "source": [
    "X_train.head()"
   ]
  },
  {
   "cell_type": "code",
   "execution_count": null,
   "metadata": {},
   "outputs": [],
   "source": [
    "\n",
    "X_train.reset_index(drop=True, inplace=True)\n",
    "for i in range(0, len(X_train)):\n",
    "  path = \"train/\" + X_train.ann[i]\n",
    "  if not os.path.exists(path):\n",
    "    os.mkdir(path)\n",
    "  urllib.request.urlretrieve(X_train['image.url'][i],\"train/\"+X_train.ann[i]+\"/image\"+str(i)+'.jpg')\n",
    "  print('Téléchargement réussi ' +str(i))\n"
   ]
  },
  {
   "cell_type": "code",
   "execution_count": null,
   "metadata": {},
   "outputs": [],
   "source": [
    "X_val.reset_index(drop=True, inplace=True)\n",
    "for i in range(0, len(X_val)):\n",
    "  path = \"test/\" + X_val.ann[i]\n",
    "  if not os.path.exists(path):\n",
    "    os.mkdir(path)\n",
    "  urllib.request.urlretrieve(X_val['image.url'][i],\"test/\"+X_val.ann[i]+\"/image\"+str(i)+'.jpg')\n",
    "  print('Téléchargement réussi ' +str(i))"
   ]
  },
  {
   "cell_type": "code",
   "execution_count": null,
   "metadata": {},
   "outputs": [],
   "source": [
    "import tensorflow as tf\n",
    "from tensorflow import keras\n",
    "import keras\n",
    "from keras.applications.vgg16 import VGG16\n",
    "from keras.preprocessing.image import ImageDataGenerator, img_to_array, load_img\n",
    "from keras.models import Sequential\n",
    "from keras.layers import Dense, Dropout, Activation, Flatten\n",
    "from keras.layers import Conv2D, MaxPooling2D\n",
    "from keras import backend as K\n",
    "from sklearn.model_selection import train_test_split\n",
    "\n",
    "\n",
    "from tensorflow.keras.optimizers import Adam \n",
    "from keras.metrics import categorical_crossentropy\n",
    "from keras.models import load_model\n",
    "from PIL import Image, ImageFile\n",
    "ImageFile.LOAD_TRUNCATED_IMAGES = True"
   ]
  },
  {
   "cell_type": "code",
   "execution_count": null,
   "metadata": {},
   "outputs": [],
   "source": [
    "train_path=\"train\"\n",
    "test_path=\"test\""
   ]
  },
  {
   "cell_type": "code",
   "execution_count": null,
   "metadata": {},
   "outputs": [],
   "source": [
    "data_gen = dict(rescale=1./255, \n",
    "                rotation_range=35, \n",
    "                zoom_range = 0.3,\n",
    "                shear_range=0.2,\n",
    "                channel_shift_range=0.3,\n",
    "                fill_mode='nearest',\n",
    "                cval=0.3,\n",
    "                width_shift_range=0.2,\n",
    "                height_shift_range=0.2, \n",
    "                horizontal_flip = 'true',\n",
    "                featurewise_std_normalization=True,\n",
    "                samplewise_center=True,\n",
    "                samplewise_std_normalization=True,\n",
    "                zca_whitening=True,\n",
    "                zca_epsilon=25,\n",
    "                brightness_range=0.3,\n",
    "                vertical_flip=True\n",
    "                )\n",
    "\n",
    "train_datagen = ImageDataGenerator(data_gen)\n",
    "\n",
    "test_datagen = ImageDataGenerator(data_gen)"
   ]
  },
  {
   "cell_type": "code",
   "execution_count": null,
   "metadata": {},
   "outputs": [],
   "source": [
    "train_generator = train_datagen.flow_from_directory(train_path, \n",
    "                                                    target_size=(224, 224), \n",
    "                                                    batch_size=128, \n",
    "                                                    class_mode='categorical')\n",
    "\n",
    "test_generator = test_datagen.flow_from_directory(test_path, \n",
    "                                                    target_size=(224, 224), \n",
    "                                                    batch_size=128, \n",
    "                                                    class_mode='categorical')"
   ]
  },
  {
   "cell_type": "code",
   "execution_count": null,
   "metadata": {},
   "outputs": [],
   "source": [
    "model = Sequential()\n",
    "model.add(Conv2D(32, (3, 3), padding='same',\n",
    "                 input_shape=(224, 224, 3)))\n",
    "model.add(Activation('relu'))\n",
    "model.add(Conv2D(32, (3, 3)))\n",
    "model.add(Activation('relu'))\n",
    "model.add(MaxPooling2D(pool_size=(2, 2)))\n",
    "\n",
    "model.add(Conv2D(64, (3, 3), padding='same'))\n",
    "model.add(Activation('relu'))\n",
    "model.add(Conv2D(64, (3, 3)))\n",
    "model.add(Activation('relu'))\n",
    "model.add(MaxPooling2D(pool_size=(2, 2)))\n",
    "\n",
    "model.add(Conv2D(128, (3, 3), padding='same'))\n",
    "model.add(Activation('relu'))\n",
    "model.add(Conv2D(128, (3, 3)))\n",
    "model.add(Activation('relu'))\n",
    "model.add(MaxPooling2D(pool_size=(2, 2)))\n",
    "\n",
    "model.add(Conv2D(256, (1, 1), padding='same'))\n",
    "model.add(Activation('relu'))\n",
    "model.add(Conv2D(256, (1, 1)))\n",
    "model.add(Activation('relu'))\n",
    "model.add(MaxPooling2D(pool_size=(2, 2)))\n",
    "\n",
    "model.add(Flatten())\n",
    "model.add(Dense(512))\n",
    "model.add(Activation('relu'))\n",
    "model.add(Dense(256))\n",
    "model.add(Activation('relu'))\n",
    "model.add(Dense(128))\n",
    "model.add(Activation('relu'))\n",
    "model.add(Dropout(0.2))\n",
    "model.add(Dense(32))\n",
    "model.add(Dropout(0.2))\n",
    "model.add(Dense(16))\n",
    "model.add(Dropout(0.2))\n",
    "model.add(Dense(8))\n",
    "model.add(Dropout(0.5))\n",
    "model.add(Dense(3))\n",
    "model.add(Activation('softmax'))"
   ]
  },
  {
   "cell_type": "code",
   "execution_count": null,
   "metadata": {},
   "outputs": [],
   "source": [
    "ad = tf.keras.optimizers.Adam(learning_rate=0.0001, beta_1=0.9, beta_2=0.999, amsgrad=False)\n",
    "model.compile(loss='categorical_crossentropy',\n",
    "              optimizer=ad,\n",
    "              metrics=['accuracy'])"
   ]
  },
  {
   "cell_type": "code",
   "execution_count": null,
   "metadata": {},
   "outputs": [],
   "source": [
    "with tf.device('/device:GPU:0'):\n",
    "    model.fit(train_generator, \n",
    "                    shuffle=True,\n",
    "                    epochs=17, \n",
    "                    validation_data=test_generator)"
   ]
  },
  {
   "cell_type": "code",
   "execution_count": null,
   "metadata": {},
   "outputs": [],
   "source": [
    "from tensorflow.keras.preprocessing import image\n",
    "import numpy as np\n",
    "import matplotlib.pyplot as plt\n",
    "\n",
    "\n",
    "img = image.load_img('bird4.jfif', target_size=(224, 224))\n",
    "img_array = image.img_to_array(img)\n",
    "img_batch = np.expand_dims(img_array, axis=0)\n",
    "prediction = model.predict_classes(img_batch)\n",
    "print(ann_name[int(prediction)])\n"
   ]
  }
 ],
 "metadata": {
  "kernelspec": {
   "display_name": "Python 3",
   "language": "python",
   "name": "python3"
  },
  "language_info": {
   "codemirror_mode": {
    "name": "ipython",
    "version": 3
   },
   "file_extension": ".py",
   "mimetype": "text/x-python",
   "name": "python",
   "nbconvert_exporter": "python",
   "pygments_lexer": "ipython3",
   "version": "3.9.13"
  },
  "orig_nbformat": 4,
  "vscode": {
   "interpreter": {
    "hash": "5d6036a44b32b998b53841d0842f69976c300bf0bd2109f4a97006196c3149de"
   }
  }
 },
 "nbformat": 4,
 "nbformat_minor": 2
}
